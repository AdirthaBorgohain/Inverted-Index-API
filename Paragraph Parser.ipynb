{
 "cells": [
  {
   "cell_type": "code",
   "execution_count": 37,
   "metadata": {},
   "outputs": [],
   "source": [
    "import re"
   ]
  },
  {
   "cell_type": "code",
   "execution_count": 2,
   "metadata": {},
   "outputs": [],
   "source": [
    "with open(\"sample.txt\", \"r\") as input:\n",
    "    input_ = input.read().split(\"\\n\\n\")   #\\n\\n denotes there is a blank line in between paragraphs."
   ]
  },
  {
   "cell_type": "code",
   "execution_count": 3,
   "metadata": {},
   "outputs": [
    {
     "data": {
      "text/plain": [
       "['Lorem ipsum dolor sit amet, consectetur adipiscing elit. Fusce tristique tellus dolor, porta dapibus lacus feugiat eu. Mauris non sem neque. Curabitur et neque diam. Sed elementum vitae lacus sit amet sodales. Quisque metus dui, sodales ac mollis quis, facilisis quis sapien. Curabitur sed placerat lorem. Pellentesque scelerisque ultricies elementum. Maecenas arcu massa, fringilla a odio non, ullamcorper aliquet lectus. Morbi eu odio eget enim blandit scelerisque. Aenean vitae nibh blandit velit ultrices consequat. Nam rutrum arcu magna, a auctor erat eleifend at. Nullam consequat ante ante, quis ultrices est lobortis congue. Etiam nec laoreet velit.',\n",
       " 'Nullam nec odio urna. Ut sed felis congue, imperdiet enim quis, tempus metus. Suspendisse lobortis eu ligula sit amet pellentesque. Curabitur pulvinar ullamcorper mattis. Maecenas neque sapien, congue vel orci vitae, porta cursus magna. Donec felis velit, venenatis sit amet volutpat nec, tristique eu massa. Cras tincidunt interdum lorem et posuere. Vestibulum eget rhoncus ipsum. Pellentesque dignissim nibh ut ex dignissim, eget commodo justo feugiat. Morbi dignissim porta dapibus. Morbi viverra, justo vel molestie blandit, elit mauris facilisis ex, sed malesuada ante ipsum sed urna. Nulla eget dapibus sem. Pellentesque odio odio, mollis eget dignissim vitae, venenatis eu est. Praesent mollis hendrerit bibendum. Curabitur ex mauris, suscipit non risus ac, ornare auctor dui. Curabitur sagittis rhoncus ultricies.',\n",
       " 'Sed volutpat sapien vitae mauris posuere, non scelerisque massa maximus. Phasellus nec eros neque. Nam blandit velit a mi semper, id blandit arcu consectetur. Donec sit amet est nec eros aliquam vehicula at sed est. Ut iaculis iaculis lectus in ullamcorper. Quisque enim sapien, condimentum semper sodales eu, malesuada id erat. Donec rhoncus molestie leo, at blandit neque posuere vitae. Curabitur varius libero vitae sem consectetur interdum. Vivamus suscipit erat ac vestibulum vestibulum. Maecenas Maecenas Maecenas Maecenas urna nisi, semper at ornare eget, efficitur pharetra tortor.',\n",
       " 'Fusce eget ultricies nunc. Maecenas quis facilisis eros, et tempor leo. Donec egestas magna in faucibus faucibus. Curabitur sagittis erat a sem hendrerit rutrum. Nullam gravida dignissim ligula nec aliquet. Vivamus elementum suscipit sollicitudin. Integer blandit ac ante eu eleifend. Duis maximus in enim nec tincidunt. Aliquam ut turpis lectus. Nam tempus iaculis enim, at maximus nisl egestas sed. Etiam varius leo ex, ac euismod dui dapibus vel. Nam vehicula sem vel nunc elementum, viverra porttitor odio porta. Sed ante urna, hendrerit vitae molestie quis, faucibus id erat. Donec et dapibus mauris, vitae ultrices sem.',\n",
       " 'Nulla elementum lacus in justo tincidunt, sit amet finibus est suscipit. Mauris a enim rutrum, pellentesque arcu nec, sagittis massa. Etiam id mattis ex, non dignissim nunc. Phasellus ut blandit felis. Sed id nibh in est rhoncus maximus sed scelerisque nisl. Nulla nibh quam, congue a magna a, semper ornare magna. Praesent et magna pretium, aliquam nulla ac, venenatis odio. Nunc tincidunt, lectus in commodo volutpat, erat elit volutpat orci, porttitor rhoncus massa lectus eu risus. Ut fringilla, nunc convallis fermentum bibendum, nisi sapien tempor ipsum, sit amet laoreet velit leo vitae sem. Nunc purus turpis, lacinia id sem quis, tristique viverra purus. Praesent lacinia porta laoreet. Vivamus eu placerat mauris, sed lacinia justo.\\n']"
      ]
     },
     "execution_count": 3,
     "metadata": {},
     "output_type": "execute_result"
    }
   ],
   "source": [
    "input_"
   ]
  },
  {
   "cell_type": "code",
   "execution_count": 57,
   "metadata": {},
   "outputs": [],
   "source": [
    "class Appearance:\n",
    "    \"\"\"\n",
    "    Represents the appearance of a term in a given document, along with the\n",
    "    frequency of appearances in the same one.\n",
    "    \"\"\"\n",
    "    def __init__(self, docId, frequency):\n",
    "        self.docId = docId\n",
    "        self.frequency = frequency\n",
    "        \n",
    "    def __repr__(self):\n",
    "        \"\"\"\n",
    "        String representation of the Appearance object\n",
    "        \"\"\"\n",
    "        return str(self.__dict__)"
   ]
  },
  {
   "cell_type": "code",
   "execution_count": 100,
   "metadata": {},
   "outputs": [],
   "source": [
    "class Database:\n",
    "    \"\"\"\n",
    "    In memory database representing the already indexed documents.\n",
    "    \"\"\"\n",
    "    def __init__(self):\n",
    "        self.db = dict()\n",
    "        \n",
    "    def __repr__(self):\n",
    "        \"\"\"\n",
    "        String representation of the Database object\n",
    "        \"\"\"\n",
    "        return str(self.__dict__)\n",
    "    \n",
    "    def get(self, id):\n",
    "        return self.db.get(id, None)\n",
    "    \n",
    "    def add(self, document):\n",
    "        \"\"\"\n",
    "        Adds a document to the DB.\n",
    "        \"\"\"\n",
    "        return self.db.update({document['id']: document})\n",
    "    \n",
    "    def remove(self, document):\n",
    "        \"\"\"\n",
    "        Removes document from DB.\n",
    "        \"\"\"\n",
    "        return self.db.pop(document['id'], None)\n",
    "    \n",
    "    def clear(self):\n",
    "        self.db.clear()\n",
    "        return None"
   ]
  },
  {
   "cell_type": "code",
   "execution_count": 101,
   "metadata": {},
   "outputs": [],
   "source": [
    "class InvertedIndex:\n",
    "    \"\"\"\n",
    "    Inverted Index class.\n",
    "    \"\"\"\n",
    "    def __init__(self, db):\n",
    "        self.index = dict()\n",
    "        self.db = db\n",
    "        \n",
    "    def __repr__(self):\n",
    "        \"\"\"\n",
    "        String representation of the Database object\n",
    "        \"\"\"\n",
    "        return str(self.index)\n",
    "        \n",
    "    def index_document(self, document):\n",
    "        \"\"\"\n",
    "        Process a given document, save it to the DB and update the index.\n",
    "        \"\"\"\n",
    "        \n",
    "        # Remove punctuation from the text.\n",
    "        clean_text = re.sub(r'[^\\w\\s]','', document['text'])\n",
    "        clean_text = clean_text.lower()\n",
    "        terms = clean_text.split(' ')\n",
    "        \n",
    "        appearances_dict = dict()\n",
    "        # Dictionary with each term and the frequency it appears in the text.\n",
    "        for term in terms:\n",
    "            term_frequency = appearances_dict[term].frequency if term in appearances_dict else 0\n",
    "            appearances_dict[term] = Appearance(document['id'], term_frequency + 1)\n",
    "            \n",
    "        # Update the inverted index\n",
    "        update_dict = { key: [appearance]\n",
    "                       if key not in self.index\n",
    "                       else self.index[key] + [appearance]\n",
    "                       for (key, appearance) in appearances_dict.items() }\n",
    "        self.index.update(update_dict)\n",
    "        # Add the document into the database\n",
    "        self.db.add(document)\n",
    "        return document\n",
    "    \n",
    "    def clear_index(self, document):\n",
    "#         print(type(self.db.db['1']))\n",
    "        self.db.remove(document)\n",
    "        \n",
    "    \n",
    "    def lookup_query(self, query):\n",
    "        \"\"\"\n",
    "        Returns the dictionary of terms with their correspondent Appearances. \n",
    "        This is a very naive search since it will just split the terms and show\n",
    "        the documents where they appear.\n",
    "        \"\"\"\n",
    "        query = query.lower()\n",
    "        if query in self.index:\n",
    "            print('aye')\n",
    "#             print(self.index[query])\n",
    "            return(self.index[query])\n",
    "        else:\n",
    "            print('naah')\n",
    "            return []\n",
    "#         return { term: self.index[term] for term in query.split(' ') if term in self.index }"
   ]
  },
  {
   "cell_type": "code",
   "execution_count": 102,
   "metadata": {},
   "outputs": [],
   "source": [
    "db = Database()\n",
    "index = InvertedIndex(db)\n",
    "for idx,doc in enumerate(input_):\n",
    "    dict_ = {\n",
    "        'id': str(idx+1),\n",
    "        'text': doc\n",
    "    }\n",
    "    index.index_document(dict_)"
   ]
  },
  {
   "cell_type": "code",
   "execution_count": 41,
   "metadata": {},
   "outputs": [
    {
     "name": "stdout",
     "output_type": "stream",
     "text": [
      "aye\n"
     ]
    }
   ],
   "source": [
    "res_ = index.lookup_query('Maecenas')"
   ]
  },
  {
   "cell_type": "code",
   "execution_count": 67,
   "metadata": {},
   "outputs": [
    {
     "name": "stdout",
     "output_type": "stream",
     "text": [
      "Sed volutpat sapien vitae mauris posuere, non scelerisque massa maximus. Phasellus nec eros neque. Nam blandit velit a mi semper, id blandit arcu consectetur. Donec sit amet est nec eros aliquam vehicula at sed est. Ut iaculis iaculis lectus in ullamcorper. Quisque enim sapien, condimentum semper sodales eu, malesuada id erat. Donec rhoncus molestie leo, at blandit neque posuere vitae. Curabitur varius libero vitae sem consectetur interdum. Vivamus suscipit erat ac vestibulum vestibulum. Maecenas Maecenas Maecenas Maecenas urna nisi, semper at ornare eget, efficitur pharetra tortor.\n",
      "\n",
      "Lorem ipsum dolor sit amet, consectetur adipiscing elit. Fusce tristique tellus dolor, porta dapibus lacus feugiat eu. Mauris non sem neque. Curabitur et neque diam. Sed elementum vitae lacus sit amet sodales. Quisque metus dui, sodales ac mollis quis, facilisis quis sapien. Curabitur sed placerat lorem. Pellentesque scelerisque ultricies elementum. Maecenas arcu massa, fringilla a odio non, ullamcorper aliquet lectus. Morbi eu odio eget enim blandit scelerisque. Aenean vitae nibh blandit velit ultrices consequat. Nam rutrum arcu magna, a auctor erat eleifend at. Nullam consequat ante ante, quis ultrices est lobortis congue. Etiam nec laoreet velit.\n",
      "\n",
      "Nullam nec odio urna. Ut sed felis congue, imperdiet enim quis, tempus metus. Suspendisse lobortis eu ligula sit amet pellentesque. Curabitur pulvinar ullamcorper mattis. Maecenas neque sapien, congue vel orci vitae, porta cursus magna. Donec felis velit, venenatis sit amet volutpat nec, tristique eu massa. Cras tincidunt interdum lorem et posuere. Vestibulum eget rhoncus ipsum. Pellentesque dignissim nibh ut ex dignissim, eget commodo justo feugiat. Morbi dignissim porta dapibus. Morbi viverra, justo vel molestie blandit, elit mauris facilisis ex, sed malesuada ante ipsum sed urna. Nulla eget dapibus sem. Pellentesque odio odio, mollis eget dignissim vitae, venenatis eu est. Praesent mollis hendrerit bibendum. Curabitur ex mauris, suscipit non risus ac, ornare auctor dui. Curabitur sagittis rhoncus ultricies.\n",
      "\n",
      "Fusce eget ultricies nunc. Maecenas quis facilisis eros, et tempor leo. Donec egestas magna in faucibus faucibus. Curabitur sagittis erat a sem hendrerit rutrum. Nullam gravida dignissim ligula nec aliquet. Vivamus elementum suscipit sollicitudin. Integer blandit ac ante eu eleifend. Duis maximus in enim nec tincidunt. Aliquam ut turpis lectus. Nam tempus iaculis enim, at maximus nisl egestas sed. Etiam varius leo ex, ac euismod dui dapibus vel. Nam vehicula sem vel nunc elementum, viverra porttitor odio porta. Sed ante urna, hendrerit vitae molestie quis, faucibus id erat. Donec et dapibus mauris, vitae ultrices sem.\n",
      "\n"
     ]
    }
   ],
   "source": [
    "res = sorted(res_, key=lambda k: k.frequency, reverse=True)\n",
    "\n",
    "for doc in res:\n",
    "    print(db.get(doc.docId)['text'])\n",
    "    print()"
   ]
  },
  {
   "cell_type": "code",
   "execution_count": 37,
   "metadata": {},
   "outputs": [],
   "source": [
    "def highlight_term(id, term, text):\n",
    "    replaced_text = text.replace(term, \"\\033[1;32;40m {term} \\033[0;0m\".format(term=term))\n",
    "    return \"--- document {id}: {replaced}\".format(id=id, replaced=replaced_text)\n",
    "\n",
    "def main():\n",
    "    db = Database()\n",
    "    index = InvertedIndex(db)\n",
    "    document1 = {\n",
    "        'id': '1',\n",
    "        'text': 'The big sharks of Belgium drink beer.'\n",
    "    }\n",
    "    document2 = {\n",
    "        'id': '2',\n",
    "        'text': 'Belgium has great beer. They drink beer all the time.'\n",
    "    }\n",
    "    index.index_document(document1)\n",
    "    index.index_document(document2)\n",
    "    \n",
    "    \n",
    "    search_term = input(\"Enter term(s) to search: \")\n",
    "    result = index.lookup_query(search_term)\n",
    "    \n",
    "    for term in result.keys():\n",
    "        for appearance in result[term]:\n",
    "            # Belgium: { docId: 1, frequency: 1}\n",
    "            document = db.get(appearance.docId)\n",
    "            print(highlight_term(appearance.docId, term, document['text']))\n",
    "        print(\"-----------------------------\")"
   ]
  },
  {
   "cell_type": "code",
   "execution_count": 21,
   "metadata": {},
   "outputs": [
    {
     "ename": "TypeError",
     "evalue": "'_io.TextIOWrapper' object is not callable",
     "output_type": "error",
     "traceback": [
      "\u001b[0;31m---------------------------------------------------------------------------\u001b[0m",
      "\u001b[0;31mTypeError\u001b[0m                                 Traceback (most recent call last)",
      "\u001b[0;32m<ipython-input-21-263240bbee7e>\u001b[0m in \u001b[0;36m<module>\u001b[0;34m\u001b[0m\n\u001b[0;32m----> 1\u001b[0;31m \u001b[0mmain\u001b[0m\u001b[0;34m(\u001b[0m\u001b[0;34m)\u001b[0m\u001b[0;34m\u001b[0m\u001b[0;34m\u001b[0m\u001b[0m\n\u001b[0m",
      "\u001b[0;32m<ipython-input-20-9b1ae2b17027>\u001b[0m in \u001b[0;36mmain\u001b[0;34m()\u001b[0m\n\u001b[1;32m     18\u001b[0m \u001b[0;34m\u001b[0m\u001b[0m\n\u001b[1;32m     19\u001b[0m \u001b[0;34m\u001b[0m\u001b[0m\n\u001b[0;32m---> 20\u001b[0;31m     \u001b[0msearch_term\u001b[0m \u001b[0;34m=\u001b[0m \u001b[0minput\u001b[0m\u001b[0;34m(\u001b[0m\u001b[0;34m\"Enter term(s) to search: \"\u001b[0m\u001b[0;34m)\u001b[0m\u001b[0;34m\u001b[0m\u001b[0;34m\u001b[0m\u001b[0m\n\u001b[0m\u001b[1;32m     21\u001b[0m     \u001b[0mresult\u001b[0m \u001b[0;34m=\u001b[0m \u001b[0mindex\u001b[0m\u001b[0;34m.\u001b[0m\u001b[0mlookup_query\u001b[0m\u001b[0;34m(\u001b[0m\u001b[0msearch_term\u001b[0m\u001b[0;34m)\u001b[0m\u001b[0;34m\u001b[0m\u001b[0;34m\u001b[0m\u001b[0m\n\u001b[1;32m     22\u001b[0m \u001b[0;34m\u001b[0m\u001b[0m\n",
      "\u001b[0;31mTypeError\u001b[0m: '_io.TextIOWrapper' object is not callable"
     ]
    }
   ],
   "source": [
    "main()"
   ]
  },
  {
   "cell_type": "code",
   "execution_count": 105,
   "metadata": {},
   "outputs": [],
   "source": [
    "db.clear()"
   ]
  },
  {
   "cell_type": "code",
   "execution_count": 94,
   "metadata": {},
   "outputs": [],
   "source": [
    "db.remove"
   ]
  },
  {
   "cell_type": "code",
   "execution_count": 106,
   "metadata": {},
   "outputs": [
    {
     "data": {
      "text/plain": [
       "{'db': {}}"
      ]
     },
     "execution_count": 106,
     "metadata": {},
     "output_type": "execute_result"
    }
   ],
   "source": [
    "db"
   ]
  },
  {
   "cell_type": "code",
   "execution_count": null,
   "metadata": {},
   "outputs": [],
   "source": []
  }
 ],
 "metadata": {
  "kernelspec": {
   "display_name": "Python 3",
   "language": "python",
   "name": "python3"
  },
  "language_info": {
   "codemirror_mode": {
    "name": "ipython",
    "version": 3
   },
   "file_extension": ".py",
   "mimetype": "text/x-python",
   "name": "python",
   "nbconvert_exporter": "python",
   "pygments_lexer": "ipython3",
   "version": "3.6.8"
  }
 },
 "nbformat": 4,
 "nbformat_minor": 2
}
